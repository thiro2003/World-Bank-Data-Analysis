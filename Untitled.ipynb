{
 "cells": [
  {
   "cell_type": "code",
   "execution_count": 1,
   "id": "6a8b780e-3a07-4b6d-bcb8-bb143993e5bf",
   "metadata": {},
   "outputs": [],
   "source": [
    "import pandas as pd\n",
    "import numpy as np\n",
    "import seaborn as sns\n",
    "import matplotlib.pyplot as plt"
   ]
  },
  {
   "cell_type": "code",
   "execution_count": 2,
   "id": "1bf6b363-e93b-41a7-9159-932fec67a461",
   "metadata": {},
   "outputs": [
    {
     "data": {
      "text/html": [
       "<div>\n",
       "<style scoped>\n",
       "    .dataframe tbody tr th:only-of-type {\n",
       "        vertical-align: middle;\n",
       "    }\n",
       "\n",
       "    .dataframe tbody tr th {\n",
       "        vertical-align: top;\n",
       "    }\n",
       "\n",
       "    .dataframe thead th {\n",
       "        text-align: right;\n",
       "    }\n",
       "</style>\n",
       "<table border=\"1\" class=\"dataframe\">\n",
       "  <thead>\n",
       "    <tr style=\"text-align: right;\">\n",
       "      <th></th>\n",
       "      <th>Country</th>\n",
       "      <th>Year</th>\n",
       "      <th>GDP (USD)</th>\n",
       "      <th>Population</th>\n",
       "      <th>Life Expectancy</th>\n",
       "      <th>Unemployment Rate (%)</th>\n",
       "      <th>CO2 Emissions (metric tons per capita)</th>\n",
       "      <th>Access to Electricity (%)</th>\n",
       "    </tr>\n",
       "  </thead>\n",
       "  <tbody>\n",
       "    <tr>\n",
       "      <th>0</th>\n",
       "      <td>Brazil</td>\n",
       "      <td>2010</td>\n",
       "      <td>1.493220e+12</td>\n",
       "      <td>829020000.0</td>\n",
       "      <td>66.7</td>\n",
       "      <td>3.81</td>\n",
       "      <td>10.79</td>\n",
       "      <td>76.76</td>\n",
       "    </tr>\n",
       "    <tr>\n",
       "      <th>1</th>\n",
       "      <td>Japan</td>\n",
       "      <td>2011</td>\n",
       "      <td>1.756270e+13</td>\n",
       "      <td>897010000.0</td>\n",
       "      <td>61.4</td>\n",
       "      <td>17.98</td>\n",
       "      <td>15.67</td>\n",
       "      <td>67.86</td>\n",
       "    </tr>\n",
       "    <tr>\n",
       "      <th>2</th>\n",
       "      <td>India</td>\n",
       "      <td>2012</td>\n",
       "      <td>1.642688e+13</td>\n",
       "      <td>669850000.0</td>\n",
       "      <td>69.1</td>\n",
       "      <td>16.02</td>\n",
       "      <td>2.08</td>\n",
       "      <td>81.08</td>\n",
       "    </tr>\n",
       "    <tr>\n",
       "      <th>3</th>\n",
       "      <td>Mexico</td>\n",
       "      <td>2013</td>\n",
       "      <td>1.189001e+13</td>\n",
       "      <td>113800000.0</td>\n",
       "      <td>80.1</td>\n",
       "      <td>6.26</td>\n",
       "      <td>19.13</td>\n",
       "      <td>53.46</td>\n",
       "    </tr>\n",
       "    <tr>\n",
       "      <th>4</th>\n",
       "      <td>India</td>\n",
       "      <td>2014</td>\n",
       "      <td>2.673020e+12</td>\n",
       "      <td>29710000.0</td>\n",
       "      <td>62.7</td>\n",
       "      <td>3.10</td>\n",
       "      <td>15.66</td>\n",
       "      <td>82.17</td>\n",
       "    </tr>\n",
       "  </tbody>\n",
       "</table>\n",
       "</div>"
      ],
      "text/plain": [
       "  Country  Year     GDP (USD)   Population  Life Expectancy  \\\n",
       "0  Brazil  2010  1.493220e+12  829020000.0             66.7   \n",
       "1   Japan  2011  1.756270e+13  897010000.0             61.4   \n",
       "2   India  2012  1.642688e+13  669850000.0             69.1   \n",
       "3  Mexico  2013  1.189001e+13  113800000.0             80.1   \n",
       "4   India  2014  2.673020e+12   29710000.0             62.7   \n",
       "\n",
       "   Unemployment Rate (%)  CO2 Emissions (metric tons per capita)  \\\n",
       "0                   3.81                                   10.79   \n",
       "1                  17.98                                   15.67   \n",
       "2                  16.02                                    2.08   \n",
       "3                   6.26                                   19.13   \n",
       "4                   3.10                                   15.66   \n",
       "\n",
       "   Access to Electricity (%)  \n",
       "0                      76.76  \n",
       "1                      67.86  \n",
       "2                      81.08  \n",
       "3                      53.46  \n",
       "4                      82.17  "
      ]
     },
     "execution_count": 2,
     "metadata": {},
     "output_type": "execute_result"
    }
   ],
   "source": [
    "# importing dataset\n",
    "data=pd.read_csv(\"world_bank_dataset.csv\")\n",
    "data.head()"
   ]
  },
  {
   "cell_type": "code",
   "execution_count": 3,
   "id": "c320b749-fd79-440e-9e98-e3242aa7ccb6",
   "metadata": {},
   "outputs": [
    {
     "data": {
      "text/plain": [
       "array(['Brazil', 'Japan', 'India', 'Mexico', 'United Kingdom', 'China',\n",
       "       'Indonesia', 'Canada', 'Argentina', 'Nigeria', 'Italy', 'Turkey',\n",
       "       'Saudi Arabia', 'Russia', 'France', 'United States', 'Germany',\n",
       "       'South Korea', 'Australia', 'South Africa'], dtype=object)"
      ]
     },
     "execution_count": 3,
     "metadata": {},
     "output_type": "execute_result"
    }
   ],
   "source": [
    "# performing univariate data analysis\n",
    "# Q1.What are the unique countries in the dataset?\n",
    "data[\"Country\"].unique()\n"
   ]
  },
  {
   "cell_type": "code",
   "execution_count": 7,
   "id": "700e344a-ad48-40b4-9b4b-f0df24e59d11",
   "metadata": {},
   "outputs": [
    {
     "data": {
      "text/plain": [
       "20"
      ]
     },
     "execution_count": 7,
     "metadata": {},
     "output_type": "execute_result"
    }
   ],
   "source": [
    "# Q2.Number of unique countries in the dataset?data[\"Country\"].nunique()\n",
    "data[\"Country\"].nunique()\n"
   ]
  },
  {
   "cell_type": "code",
   "execution_count": 4,
   "id": "34653089-da55-4f2e-b4ac-46dd11c7431a",
   "metadata": {},
   "outputs": [
    {
     "data": {
      "text/plain": [
       "(200, 8)"
      ]
     },
     "execution_count": 4,
     "metadata": {},
     "output_type": "execute_result"
    }
   ],
   "source": [
    "# Q3. Return number row and number of column\n",
    "data.shape"
   ]
  },
  {
   "cell_type": "code",
   "execution_count": 5,
   "id": "d897bf1e-2251-4dbb-88fd-5607e5f32022",
   "metadata": {},
   "outputs": [
    {
     "data": {
      "text/plain": [
       "np.float64(10568674550000.0)"
      ]
     },
     "execution_count": 5,
     "metadata": {},
     "output_type": "execute_result"
    }
   ],
   "source": [
    "# Q4.What is the average GDP for each country?\n",
    "data[\"GDP (USD)\"].mean()"
   ]
  },
  {
   "cell_type": "code",
   "execution_count": 8,
   "id": "72b2db8a-d027-4656-a4b5-b4222d6e0678",
   "metadata": {},
   "outputs": [
    {
     "data": {
      "text/plain": [
       "'Turkey'"
      ]
     },
     "execution_count": 8,
     "metadata": {},
     "output_type": "execute_result"
    }
   ],
   "source": [
    "# Q5.Which country has the highest GDP?\n",
    "data.loc[data[\"GDP (USD)\"].idxmax(), \"Country\"]"
   ]
  },
  {
   "cell_type": "code",
   "execution_count": 10,
   "id": "9d9a5569-4432-450e-b58f-47bf2cc3dc69",
   "metadata": {},
   "outputs": [
    {
     "data": {
      "text/plain": [
       "'United States'"
      ]
     },
     "execution_count": 10,
     "metadata": {},
     "output_type": "execute_result"
    }
   ],
   "source": [
    "# Q6.Which country has the lowest GDP?\n",
    "data.loc[data[\"GDP (USD)\"].idxmin(),\"Country\"]"
   ]
  },
  {
   "cell_type": "code",
   "execution_count": 12,
   "id": "e041f0f7-65b1-4733-977e-39eba7a2df08",
   "metadata": {},
   "outputs": [
    {
     "data": {
      "text/plain": [
       "Country\n",
       "Argentina         8.461125e+08\n",
       "Australia         5.860700e+08\n",
       "Brazil            6.238429e+08\n",
       "Canada            6.306470e+08\n",
       "China             6.159000e+08\n",
       "France            5.915642e+08\n",
       "Germany           8.520243e+08\n",
       "India             5.619060e+08\n",
       "Indonesia         7.205638e+08\n",
       "Italy             7.601692e+08\n",
       "Japan             6.203970e+08\n",
       "Mexico            7.600200e+08\n",
       "Nigeria           8.119689e+08\n",
       "Russia            8.014125e+08\n",
       "Saudi Arabia      8.975546e+08\n",
       "South Africa      9.359662e+08\n",
       "South Korea       9.841967e+08\n",
       "Turkey            5.963389e+08\n",
       "United Kingdom    8.402123e+08\n",
       "United States     8.224318e+08\n",
       "Name: Population, dtype: float64"
      ]
     },
     "execution_count": 12,
     "metadata": {},
     "output_type": "execute_result"
    }
   ],
   "source": [
    "# Q7.What is the average population size for each country?\n",
    "data.groupby(\"Country\")[\"Population\"].mean()"
   ]
  },
  {
   "cell_type": "code",
   "execution_count": 19,
   "id": "c460d96f-311d-4d99-8b24-a689e3936401",
   "metadata": {},
   "outputs": [
    {
     "data": {
      "text/plain": [
       "Country\n",
       "Turkey            70.577778\n",
       "Brazil            70.471429\n",
       "South Africa      70.400000\n",
       "Saudi Arabia      69.538462\n",
       "India             69.453333\n",
       "Germany           69.071429\n",
       "China             68.900000\n",
       "Australia         68.785714\n",
       "South Korea       68.016667\n",
       "United Kingdom    67.261538\n",
       "Name: Life Expectancy, dtype: float64"
      ]
     },
     "execution_count": 19,
     "metadata": {},
     "output_type": "execute_result"
    }
   ],
   "source": [
    "# Q8.Rank countries by average life expectancy and display the top 10.\n",
    "d=data.groupby(\"Country\")[\"Life Expectancy\"].mean().nlargest(10)"
   ]
  },
  {
   "cell_type": "code",
   "execution_count": 26,
   "id": "d73eadc3-b919-4212-a177-e4b9d2ce2b50",
   "metadata": {},
   "outputs": [
    {
     "data": {
      "text/plain": [
       "np.int64(2018)"
      ]
     },
     "execution_count": 26,
     "metadata": {},
     "output_type": "execute_result"
    }
   ],
   "source": [
    "# Q10.Determine the year with the highest global CO2 emissions per capita.\n",
    "\n",
    "data.loc[data[\"CO2 Emissions (metric tons per capita)\"].idxmax(),\"Year\"]"
   ]
  },
  {
   "cell_type": "code",
   "execution_count": 33,
   "id": "962d84e3-35e9-412e-bd4f-6f0c29da1ee1",
   "metadata": {},
   "outputs": [],
   "source": [
    "# Q11.Identify which country had the highest GDP per capita in any year.\n",
    "data[\"GDPperCapita\"]=data[\"GDP (USD)\"]/data[\"Population\"]"
   ]
  },
  {
   "cell_type": "code",
   "execution_count": 35,
   "id": "57fe8c28-ea56-4fb1-881e-aaf5b7304b20",
   "metadata": {},
   "outputs": [
    {
     "data": {
      "text/plain": [
       "Country                France\n",
       "GDPperCapita    1070103.30993\n",
       "Name: 114, dtype: object"
      ]
     },
     "execution_count": 35,
     "metadata": {},
     "output_type": "execute_result"
    }
   ],
   "source": [
    "data.loc[data[\"GDPperCapita\"].idxmax(),[\"Country\",\"GDPperCapita\"]]"
   ]
  },
  {
   "cell_type": "code",
   "execution_count": 37,
   "id": "bdf8ed65-6c91-4f0e-b210-9cf347f8394b",
   "metadata": {},
   "outputs": [
    {
     "data": {
      "text/plain": [
       "np.float64(19983770000000.0)"
      ]
     },
     "execution_count": 37,
     "metadata": {},
     "output_type": "execute_result"
    }
   ],
   "source": [
    "# Q12.Group countries into tiers by GDP and analyze the average unemployment in each tier.\n",
    "data[\"GDP (USD)\"].max()"
   ]
  },
  {
   "cell_type": "code",
   "execution_count": 71,
   "id": "0368a138-35b7-4478-a198-98d54f9a73b0",
   "metadata": {},
   "outputs": [
    {
     "name": "stdout",
     "output_type": "stream",
     "text": [
      "  Country     GDP (USD)  medium\n",
      "0  Brazil  1.493220e+12  Brazil\n",
      "1   Japan  1.756270e+13     NaN\n",
      "2   India  1.642688e+13     NaN\n",
      "3  Mexico  1.189001e+13  Mexico\n",
      "4   India  2.673020e+12   India\n"
     ]
    }
   ],
   "source": [
    "medium_condition = (data[\"GDP (USD)\"] >= 3000) & (data[\"GDP (USD)\"] < 13322513333333.334)\n",
    "\n",
    "# Assign country names to the 'medium' column based on the condition\n",
    "data[\"medium\"] = np.where(medium_condition, data[\"Country\"], np.nan)  # or use '' for an empty string\n",
    "\n",
    "# Check the first few rows to confirm\n",
    "print(data[[\"Country\", \"GDP (USD)\", \"medium\"]].head())"
   ]
  },
  {
   "cell_type": "code",
   "execution_count": null,
   "id": "1b4bebac-769c-4ebb-98d2-3cf648eca923",
   "metadata": {},
   "outputs": [],
   "source": []
  }
 ],
 "metadata": {
  "kernelspec": {
   "display_name": "Python 3 (ipykernel)",
   "language": "python",
   "name": "python3"
  },
  "language_info": {
   "codemirror_mode": {
    "name": "ipython",
    "version": 3
   },
   "file_extension": ".py",
   "mimetype": "text/x-python",
   "name": "python",
   "nbconvert_exporter": "python",
   "pygments_lexer": "ipython3",
   "version": "3.12.4"
  }
 },
 "nbformat": 4,
 "nbformat_minor": 5
}
